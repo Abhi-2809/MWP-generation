{
  "nbformat": 4,
  "nbformat_minor": 0,
  "metadata": {
    "colab": {
      "name": "TFGPT2LMHeadModel(Srilankan).ipynb",
      "provenance": [],
      "collapsed_sections": []
    },
    "kernelspec": {
      "name": "python3",
      "display_name": "Python 3"
    },
    "language_info": {
      "name": "python"
    },
    "widgets": {
      "application/vnd.jupyter.widget-state+json": {
        "b297b9a6e2304d0baecfdeb41a45bab9": {
          "model_module": "@jupyter-widgets/controls",
          "model_name": "HBoxModel",
          "model_module_version": "1.5.0",
          "state": {
            "_view_name": "HBoxView",
            "_dom_classes": [],
            "_model_name": "HBoxModel",
            "_view_module": "@jupyter-widgets/controls",
            "_model_module_version": "1.5.0",
            "_view_count": null,
            "_view_module_version": "1.5.0",
            "box_style": "",
            "layout": "IPY_MODEL_047c151348af47868292a6d93bbf7c28",
            "_model_module": "@jupyter-widgets/controls",
            "children": [
              "IPY_MODEL_6501da506cf44ffd82822deffbd57b74",
              "IPY_MODEL_514fb62dfa3d47409a0446baec0ab0f4"
            ]
          }
        },
        "047c151348af47868292a6d93bbf7c28": {
          "model_module": "@jupyter-widgets/base",
          "model_name": "LayoutModel",
          "model_module_version": "1.2.0",
          "state": {
            "_view_name": "LayoutView",
            "grid_template_rows": null,
            "right": null,
            "justify_content": null,
            "_view_module": "@jupyter-widgets/base",
            "overflow": null,
            "_model_module_version": "1.2.0",
            "_view_count": null,
            "flex_flow": null,
            "width": null,
            "min_width": null,
            "border": null,
            "align_items": null,
            "bottom": null,
            "_model_module": "@jupyter-widgets/base",
            "top": null,
            "grid_column": null,
            "overflow_y": null,
            "overflow_x": null,
            "grid_auto_flow": null,
            "grid_area": null,
            "grid_template_columns": null,
            "flex": null,
            "_model_name": "LayoutModel",
            "justify_items": null,
            "grid_row": null,
            "max_height": null,
            "align_content": null,
            "visibility": null,
            "align_self": null,
            "height": null,
            "min_height": null,
            "padding": null,
            "grid_auto_rows": null,
            "grid_gap": null,
            "max_width": null,
            "order": null,
            "_view_module_version": "1.2.0",
            "grid_template_areas": null,
            "object_position": null,
            "object_fit": null,
            "grid_auto_columns": null,
            "margin": null,
            "display": null,
            "left": null
          }
        },
        "6501da506cf44ffd82822deffbd57b74": {
          "model_module": "@jupyter-widgets/controls",
          "model_name": "FloatProgressModel",
          "model_module_version": "1.5.0",
          "state": {
            "_view_name": "ProgressView",
            "style": "IPY_MODEL_06c82af0778c4302b9bb08234c900b5b",
            "_dom_classes": [],
            "description": "Downloading: 100%",
            "_model_name": "FloatProgressModel",
            "bar_style": "success",
            "max": 1042301,
            "_view_module": "@jupyter-widgets/controls",
            "_model_module_version": "1.5.0",
            "value": 1042301,
            "_view_count": null,
            "_view_module_version": "1.5.0",
            "orientation": "horizontal",
            "min": 0,
            "description_tooltip": null,
            "_model_module": "@jupyter-widgets/controls",
            "layout": "IPY_MODEL_ef1ac5e855b746828a5c027b135b9a36"
          }
        },
        "514fb62dfa3d47409a0446baec0ab0f4": {
          "model_module": "@jupyter-widgets/controls",
          "model_name": "HTMLModel",
          "model_module_version": "1.5.0",
          "state": {
            "_view_name": "HTMLView",
            "style": "IPY_MODEL_95eb91e706f642bd830e7a04a020353b",
            "_dom_classes": [],
            "description": "",
            "_model_name": "HTMLModel",
            "placeholder": "​",
            "_view_module": "@jupyter-widgets/controls",
            "_model_module_version": "1.5.0",
            "value": " 1.04M/1.04M [00:48&lt;00:00, 21.6kB/s]",
            "_view_count": null,
            "_view_module_version": "1.5.0",
            "description_tooltip": null,
            "_model_module": "@jupyter-widgets/controls",
            "layout": "IPY_MODEL_40e516b7d19649acb28b75fb2987a393"
          }
        },
        "06c82af0778c4302b9bb08234c900b5b": {
          "model_module": "@jupyter-widgets/controls",
          "model_name": "ProgressStyleModel",
          "model_module_version": "1.5.0",
          "state": {
            "_view_name": "StyleView",
            "_model_name": "ProgressStyleModel",
            "description_width": "initial",
            "_view_module": "@jupyter-widgets/base",
            "_model_module_version": "1.5.0",
            "_view_count": null,
            "_view_module_version": "1.2.0",
            "bar_color": null,
            "_model_module": "@jupyter-widgets/controls"
          }
        },
        "ef1ac5e855b746828a5c027b135b9a36": {
          "model_module": "@jupyter-widgets/base",
          "model_name": "LayoutModel",
          "model_module_version": "1.2.0",
          "state": {
            "_view_name": "LayoutView",
            "grid_template_rows": null,
            "right": null,
            "justify_content": null,
            "_view_module": "@jupyter-widgets/base",
            "overflow": null,
            "_model_module_version": "1.2.0",
            "_view_count": null,
            "flex_flow": null,
            "width": null,
            "min_width": null,
            "border": null,
            "align_items": null,
            "bottom": null,
            "_model_module": "@jupyter-widgets/base",
            "top": null,
            "grid_column": null,
            "overflow_y": null,
            "overflow_x": null,
            "grid_auto_flow": null,
            "grid_area": null,
            "grid_template_columns": null,
            "flex": null,
            "_model_name": "LayoutModel",
            "justify_items": null,
            "grid_row": null,
            "max_height": null,
            "align_content": null,
            "visibility": null,
            "align_self": null,
            "height": null,
            "min_height": null,
            "padding": null,
            "grid_auto_rows": null,
            "grid_gap": null,
            "max_width": null,
            "order": null,
            "_view_module_version": "1.2.0",
            "grid_template_areas": null,
            "object_position": null,
            "object_fit": null,
            "grid_auto_columns": null,
            "margin": null,
            "display": null,
            "left": null
          }
        },
        "95eb91e706f642bd830e7a04a020353b": {
          "model_module": "@jupyter-widgets/controls",
          "model_name": "DescriptionStyleModel",
          "model_module_version": "1.5.0",
          "state": {
            "_view_name": "StyleView",
            "_model_name": "DescriptionStyleModel",
            "description_width": "",
            "_view_module": "@jupyter-widgets/base",
            "_model_module_version": "1.5.0",
            "_view_count": null,
            "_view_module_version": "1.2.0",
            "_model_module": "@jupyter-widgets/controls"
          }
        },
        "40e516b7d19649acb28b75fb2987a393": {
          "model_module": "@jupyter-widgets/base",
          "model_name": "LayoutModel",
          "model_module_version": "1.2.0",
          "state": {
            "_view_name": "LayoutView",
            "grid_template_rows": null,
            "right": null,
            "justify_content": null,
            "_view_module": "@jupyter-widgets/base",
            "overflow": null,
            "_model_module_version": "1.2.0",
            "_view_count": null,
            "flex_flow": null,
            "width": null,
            "min_width": null,
            "border": null,
            "align_items": null,
            "bottom": null,
            "_model_module": "@jupyter-widgets/base",
            "top": null,
            "grid_column": null,
            "overflow_y": null,
            "overflow_x": null,
            "grid_auto_flow": null,
            "grid_area": null,
            "grid_template_columns": null,
            "flex": null,
            "_model_name": "LayoutModel",
            "justify_items": null,
            "grid_row": null,
            "max_height": null,
            "align_content": null,
            "visibility": null,
            "align_self": null,
            "height": null,
            "min_height": null,
            "padding": null,
            "grid_auto_rows": null,
            "grid_gap": null,
            "max_width": null,
            "order": null,
            "_view_module_version": "1.2.0",
            "grid_template_areas": null,
            "object_position": null,
            "object_fit": null,
            "grid_auto_columns": null,
            "margin": null,
            "display": null,
            "left": null
          }
        },
        "12c10b0efd4d4819bb0dcd8c14c4d1d4": {
          "model_module": "@jupyter-widgets/controls",
          "model_name": "HBoxModel",
          "model_module_version": "1.5.0",
          "state": {
            "_view_name": "HBoxView",
            "_dom_classes": [],
            "_model_name": "HBoxModel",
            "_view_module": "@jupyter-widgets/controls",
            "_model_module_version": "1.5.0",
            "_view_count": null,
            "_view_module_version": "1.5.0",
            "box_style": "",
            "layout": "IPY_MODEL_4bd52d6d387e41cfa0308556588649c7",
            "_model_module": "@jupyter-widgets/controls",
            "children": [
              "IPY_MODEL_f55036e749964466958b302d4e2197ca",
              "IPY_MODEL_66544852faee4e668c79ec3cbcd1b1dd"
            ]
          }
        },
        "4bd52d6d387e41cfa0308556588649c7": {
          "model_module": "@jupyter-widgets/base",
          "model_name": "LayoutModel",
          "model_module_version": "1.2.0",
          "state": {
            "_view_name": "LayoutView",
            "grid_template_rows": null,
            "right": null,
            "justify_content": null,
            "_view_module": "@jupyter-widgets/base",
            "overflow": null,
            "_model_module_version": "1.2.0",
            "_view_count": null,
            "flex_flow": null,
            "width": null,
            "min_width": null,
            "border": null,
            "align_items": null,
            "bottom": null,
            "_model_module": "@jupyter-widgets/base",
            "top": null,
            "grid_column": null,
            "overflow_y": null,
            "overflow_x": null,
            "grid_auto_flow": null,
            "grid_area": null,
            "grid_template_columns": null,
            "flex": null,
            "_model_name": "LayoutModel",
            "justify_items": null,
            "grid_row": null,
            "max_height": null,
            "align_content": null,
            "visibility": null,
            "align_self": null,
            "height": null,
            "min_height": null,
            "padding": null,
            "grid_auto_rows": null,
            "grid_gap": null,
            "max_width": null,
            "order": null,
            "_view_module_version": "1.2.0",
            "grid_template_areas": null,
            "object_position": null,
            "object_fit": null,
            "grid_auto_columns": null,
            "margin": null,
            "display": null,
            "left": null
          }
        },
        "f55036e749964466958b302d4e2197ca": {
          "model_module": "@jupyter-widgets/controls",
          "model_name": "FloatProgressModel",
          "model_module_version": "1.5.0",
          "state": {
            "_view_name": "ProgressView",
            "style": "IPY_MODEL_0c73648201594806b2f35e4099c5acc8",
            "_dom_classes": [],
            "description": "Downloading: 100%",
            "_model_name": "FloatProgressModel",
            "bar_style": "success",
            "max": 456318,
            "_view_module": "@jupyter-widgets/controls",
            "_model_module_version": "1.5.0",
            "value": 456318,
            "_view_count": null,
            "_view_module_version": "1.5.0",
            "orientation": "horizontal",
            "min": 0,
            "description_tooltip": null,
            "_model_module": "@jupyter-widgets/controls",
            "layout": "IPY_MODEL_d45fb30f55bd43b2afe90ecfed22f0b3"
          }
        },
        "66544852faee4e668c79ec3cbcd1b1dd": {
          "model_module": "@jupyter-widgets/controls",
          "model_name": "HTMLModel",
          "model_module_version": "1.5.0",
          "state": {
            "_view_name": "HTMLView",
            "style": "IPY_MODEL_fe96ef27e0c8493c906178369930df86",
            "_dom_classes": [],
            "description": "",
            "_model_name": "HTMLModel",
            "placeholder": "​",
            "_view_module": "@jupyter-widgets/controls",
            "_model_module_version": "1.5.0",
            "value": " 456k/456k [00:01&lt;00:00, 275kB/s]",
            "_view_count": null,
            "_view_module_version": "1.5.0",
            "description_tooltip": null,
            "_model_module": "@jupyter-widgets/controls",
            "layout": "IPY_MODEL_865b98a1333f4d439a5fda5a5887acd3"
          }
        },
        "0c73648201594806b2f35e4099c5acc8": {
          "model_module": "@jupyter-widgets/controls",
          "model_name": "ProgressStyleModel",
          "model_module_version": "1.5.0",
          "state": {
            "_view_name": "StyleView",
            "_model_name": "ProgressStyleModel",
            "description_width": "initial",
            "_view_module": "@jupyter-widgets/base",
            "_model_module_version": "1.5.0",
            "_view_count": null,
            "_view_module_version": "1.2.0",
            "bar_color": null,
            "_model_module": "@jupyter-widgets/controls"
          }
        },
        "d45fb30f55bd43b2afe90ecfed22f0b3": {
          "model_module": "@jupyter-widgets/base",
          "model_name": "LayoutModel",
          "model_module_version": "1.2.0",
          "state": {
            "_view_name": "LayoutView",
            "grid_template_rows": null,
            "right": null,
            "justify_content": null,
            "_view_module": "@jupyter-widgets/base",
            "overflow": null,
            "_model_module_version": "1.2.0",
            "_view_count": null,
            "flex_flow": null,
            "width": null,
            "min_width": null,
            "border": null,
            "align_items": null,
            "bottom": null,
            "_model_module": "@jupyter-widgets/base",
            "top": null,
            "grid_column": null,
            "overflow_y": null,
            "overflow_x": null,
            "grid_auto_flow": null,
            "grid_area": null,
            "grid_template_columns": null,
            "flex": null,
            "_model_name": "LayoutModel",
            "justify_items": null,
            "grid_row": null,
            "max_height": null,
            "align_content": null,
            "visibility": null,
            "align_self": null,
            "height": null,
            "min_height": null,
            "padding": null,
            "grid_auto_rows": null,
            "grid_gap": null,
            "max_width": null,
            "order": null,
            "_view_module_version": "1.2.0",
            "grid_template_areas": null,
            "object_position": null,
            "object_fit": null,
            "grid_auto_columns": null,
            "margin": null,
            "display": null,
            "left": null
          }
        },
        "fe96ef27e0c8493c906178369930df86": {
          "model_module": "@jupyter-widgets/controls",
          "model_name": "DescriptionStyleModel",
          "model_module_version": "1.5.0",
          "state": {
            "_view_name": "StyleView",
            "_model_name": "DescriptionStyleModel",
            "description_width": "",
            "_view_module": "@jupyter-widgets/base",
            "_model_module_version": "1.5.0",
            "_view_count": null,
            "_view_module_version": "1.2.0",
            "_model_module": "@jupyter-widgets/controls"
          }
        },
        "865b98a1333f4d439a5fda5a5887acd3": {
          "model_module": "@jupyter-widgets/base",
          "model_name": "LayoutModel",
          "model_module_version": "1.2.0",
          "state": {
            "_view_name": "LayoutView",
            "grid_template_rows": null,
            "right": null,
            "justify_content": null,
            "_view_module": "@jupyter-widgets/base",
            "overflow": null,
            "_model_module_version": "1.2.0",
            "_view_count": null,
            "flex_flow": null,
            "width": null,
            "min_width": null,
            "border": null,
            "align_items": null,
            "bottom": null,
            "_model_module": "@jupyter-widgets/base",
            "top": null,
            "grid_column": null,
            "overflow_y": null,
            "overflow_x": null,
            "grid_auto_flow": null,
            "grid_area": null,
            "grid_template_columns": null,
            "flex": null,
            "_model_name": "LayoutModel",
            "justify_items": null,
            "grid_row": null,
            "max_height": null,
            "align_content": null,
            "visibility": null,
            "align_self": null,
            "height": null,
            "min_height": null,
            "padding": null,
            "grid_auto_rows": null,
            "grid_gap": null,
            "max_width": null,
            "order": null,
            "_view_module_version": "1.2.0",
            "grid_template_areas": null,
            "object_position": null,
            "object_fit": null,
            "grid_auto_columns": null,
            "margin": null,
            "display": null,
            "left": null
          }
        },
        "9e86ff31b4a6437ca395dc99bdf09043": {
          "model_module": "@jupyter-widgets/controls",
          "model_name": "HBoxModel",
          "model_module_version": "1.5.0",
          "state": {
            "_view_name": "HBoxView",
            "_dom_classes": [],
            "_model_name": "HBoxModel",
            "_view_module": "@jupyter-widgets/controls",
            "_model_module_version": "1.5.0",
            "_view_count": null,
            "_view_module_version": "1.5.0",
            "box_style": "",
            "layout": "IPY_MODEL_4f924d6e9c0a45d4abe707b1b4cac8f7",
            "_model_module": "@jupyter-widgets/controls",
            "children": [
              "IPY_MODEL_c47cf577f16e4b0d9c9e624aa6c159dd",
              "IPY_MODEL_c50a905fa072458ea19187dc3011c853"
            ]
          }
        },
        "4f924d6e9c0a45d4abe707b1b4cac8f7": {
          "model_module": "@jupyter-widgets/base",
          "model_name": "LayoutModel",
          "model_module_version": "1.2.0",
          "state": {
            "_view_name": "LayoutView",
            "grid_template_rows": null,
            "right": null,
            "justify_content": null,
            "_view_module": "@jupyter-widgets/base",
            "overflow": null,
            "_model_module_version": "1.2.0",
            "_view_count": null,
            "flex_flow": null,
            "width": null,
            "min_width": null,
            "border": null,
            "align_items": null,
            "bottom": null,
            "_model_module": "@jupyter-widgets/base",
            "top": null,
            "grid_column": null,
            "overflow_y": null,
            "overflow_x": null,
            "grid_auto_flow": null,
            "grid_area": null,
            "grid_template_columns": null,
            "flex": null,
            "_model_name": "LayoutModel",
            "justify_items": null,
            "grid_row": null,
            "max_height": null,
            "align_content": null,
            "visibility": null,
            "align_self": null,
            "height": null,
            "min_height": null,
            "padding": null,
            "grid_auto_rows": null,
            "grid_gap": null,
            "max_width": null,
            "order": null,
            "_view_module_version": "1.2.0",
            "grid_template_areas": null,
            "object_position": null,
            "object_fit": null,
            "grid_auto_columns": null,
            "margin": null,
            "display": null,
            "left": null
          }
        },
        "c47cf577f16e4b0d9c9e624aa6c159dd": {
          "model_module": "@jupyter-widgets/controls",
          "model_name": "FloatProgressModel",
          "model_module_version": "1.5.0",
          "state": {
            "_view_name": "ProgressView",
            "style": "IPY_MODEL_3b21e1f8c1eb478b83e981e26e61379b",
            "_dom_classes": [],
            "description": "Downloading: 100%",
            "_model_name": "FloatProgressModel",
            "bar_style": "success",
            "max": 1355256,
            "_view_module": "@jupyter-widgets/controls",
            "_model_module_version": "1.5.0",
            "value": 1355256,
            "_view_count": null,
            "_view_module_version": "1.5.0",
            "orientation": "horizontal",
            "min": 0,
            "description_tooltip": null,
            "_model_module": "@jupyter-widgets/controls",
            "layout": "IPY_MODEL_797e5d80cf2e45cb9e16f06ed45ebed6"
          }
        },
        "c50a905fa072458ea19187dc3011c853": {
          "model_module": "@jupyter-widgets/controls",
          "model_name": "HTMLModel",
          "model_module_version": "1.5.0",
          "state": {
            "_view_name": "HTMLView",
            "style": "IPY_MODEL_899fa72711b34adb8608b49dd27ff23b",
            "_dom_classes": [],
            "description": "",
            "_model_name": "HTMLModel",
            "placeholder": "​",
            "_view_module": "@jupyter-widgets/controls",
            "_model_module_version": "1.5.0",
            "value": " 1.36M/1.36M [00:00&lt;00:00, 3.97MB/s]",
            "_view_count": null,
            "_view_module_version": "1.5.0",
            "description_tooltip": null,
            "_model_module": "@jupyter-widgets/controls",
            "layout": "IPY_MODEL_da3ca8c5f00c42d2a5665ab05f17e749"
          }
        },
        "3b21e1f8c1eb478b83e981e26e61379b": {
          "model_module": "@jupyter-widgets/controls",
          "model_name": "ProgressStyleModel",
          "model_module_version": "1.5.0",
          "state": {
            "_view_name": "StyleView",
            "_model_name": "ProgressStyleModel",
            "description_width": "initial",
            "_view_module": "@jupyter-widgets/base",
            "_model_module_version": "1.5.0",
            "_view_count": null,
            "_view_module_version": "1.2.0",
            "bar_color": null,
            "_model_module": "@jupyter-widgets/controls"
          }
        },
        "797e5d80cf2e45cb9e16f06ed45ebed6": {
          "model_module": "@jupyter-widgets/base",
          "model_name": "LayoutModel",
          "model_module_version": "1.2.0",
          "state": {
            "_view_name": "LayoutView",
            "grid_template_rows": null,
            "right": null,
            "justify_content": null,
            "_view_module": "@jupyter-widgets/base",
            "overflow": null,
            "_model_module_version": "1.2.0",
            "_view_count": null,
            "flex_flow": null,
            "width": null,
            "min_width": null,
            "border": null,
            "align_items": null,
            "bottom": null,
            "_model_module": "@jupyter-widgets/base",
            "top": null,
            "grid_column": null,
            "overflow_y": null,
            "overflow_x": null,
            "grid_auto_flow": null,
            "grid_area": null,
            "grid_template_columns": null,
            "flex": null,
            "_model_name": "LayoutModel",
            "justify_items": null,
            "grid_row": null,
            "max_height": null,
            "align_content": null,
            "visibility": null,
            "align_self": null,
            "height": null,
            "min_height": null,
            "padding": null,
            "grid_auto_rows": null,
            "grid_gap": null,
            "max_width": null,
            "order": null,
            "_view_module_version": "1.2.0",
            "grid_template_areas": null,
            "object_position": null,
            "object_fit": null,
            "grid_auto_columns": null,
            "margin": null,
            "display": null,
            "left": null
          }
        },
        "899fa72711b34adb8608b49dd27ff23b": {
          "model_module": "@jupyter-widgets/controls",
          "model_name": "DescriptionStyleModel",
          "model_module_version": "1.5.0",
          "state": {
            "_view_name": "StyleView",
            "_model_name": "DescriptionStyleModel",
            "description_width": "",
            "_view_module": "@jupyter-widgets/base",
            "_model_module_version": "1.5.0",
            "_view_count": null,
            "_view_module_version": "1.2.0",
            "_model_module": "@jupyter-widgets/controls"
          }
        },
        "da3ca8c5f00c42d2a5665ab05f17e749": {
          "model_module": "@jupyter-widgets/base",
          "model_name": "LayoutModel",
          "model_module_version": "1.2.0",
          "state": {
            "_view_name": "LayoutView",
            "grid_template_rows": null,
            "right": null,
            "justify_content": null,
            "_view_module": "@jupyter-widgets/base",
            "overflow": null,
            "_model_module_version": "1.2.0",
            "_view_count": null,
            "flex_flow": null,
            "width": null,
            "min_width": null,
            "border": null,
            "align_items": null,
            "bottom": null,
            "_model_module": "@jupyter-widgets/base",
            "top": null,
            "grid_column": null,
            "overflow_y": null,
            "overflow_x": null,
            "grid_auto_flow": null,
            "grid_area": null,
            "grid_template_columns": null,
            "flex": null,
            "_model_name": "LayoutModel",
            "justify_items": null,
            "grid_row": null,
            "max_height": null,
            "align_content": null,
            "visibility": null,
            "align_self": null,
            "height": null,
            "min_height": null,
            "padding": null,
            "grid_auto_rows": null,
            "grid_gap": null,
            "max_width": null,
            "order": null,
            "_view_module_version": "1.2.0",
            "grid_template_areas": null,
            "object_position": null,
            "object_fit": null,
            "grid_auto_columns": null,
            "margin": null,
            "display": null,
            "left": null
          }
        }
      }
    }
  },
  "cells": [
    {
      "cell_type": "markdown",
      "metadata": {
        "id": "a8ecm9bSa1kQ"
      },
      "source": [
        "#Load Data"
      ]
    },
    {
      "cell_type": "code",
      "metadata": {
        "colab": {
          "resources": {
            "http://localhost:8080/nbextensions/google.colab/files.js": {
              "data": "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",
              "ok": true,
              "headers": [
                [
                  "content-type",
                  "application/javascript"
                ]
              ],
              "status": 200,
              "status_text": ""
            }
          },
          "base_uri": "https://localhost:8080/",
          "height": 72
        },
        "id": "V7I3ZhjPYdSM",
        "outputId": "4d4323f9-91a7-4e78-a995-54db75d655d7"
      },
      "source": [
        "from google.colab import files\n",
        "uploaded = files.upload()"
      ],
      "execution_count": null,
      "outputs": [
        {
          "output_type": "display_data",
          "data": {
            "text/html": [
              "\n",
              "     <input type=\"file\" id=\"files-9d333dee-7a4a-4bce-9aa3-e5a2fc5dbd98\" name=\"files[]\" multiple disabled\n",
              "        style=\"border:none\" />\n",
              "     <output id=\"result-9d333dee-7a4a-4bce-9aa3-e5a2fc5dbd98\">\n",
              "      Upload widget is only available when the cell has been executed in the\n",
              "      current browser session. Please rerun this cell to enable.\n",
              "      </output>\n",
              "      <script src=\"/nbextensions/google.colab/files.js\"></script> "
            ],
            "text/plain": [
              "<IPython.core.display.HTML object>"
            ]
          },
          "metadata": {
            "tags": []
          }
        },
        {
          "output_type": "stream",
          "text": [
            "Saving Algebra New.txt to Algebra New.txt\n"
          ],
          "name": "stdout"
        }
      ]
    },
    {
      "cell_type": "code",
      "metadata": {
        "colab": {
          "base_uri": "https://localhost:8080/"
        },
        "id": "vAiltQvgaqaH",
        "outputId": "dfcc1110-594a-4b0a-ff3f-e332a314b520"
      },
      "source": [
        "filename = \"Algebra New.txt\"\n",
        "raw_text = open(filename).read()\n",
        "raw_text = raw_text.lower()\n",
        "print(len(raw_text))\n",
        "#print(raw_text)\n",
        "\n",
        "String = raw_text"
      ],
      "execution_count": null,
      "outputs": [
        {
          "output_type": "stream",
          "text": [
            "496206\n"
          ],
          "name": "stdout"
        }
      ]
    },
    {
      "cell_type": "code",
      "metadata": {
        "colab": {
          "base_uri": "https://localhost:8080/",
          "height": 52
        },
        "id": "35CkmGz_awyo",
        "outputId": "8973c6bc-100c-4d5c-ae94-34ef96d0a0c2"
      },
      "source": [
        "def Convert(string):\n",
        "    li = list(string.split(\"\\n\"))\n",
        "    return li\n",
        "      \n",
        "Dataset =  Convert(String)\n",
        "print(len(Dataset))\n",
        "Dataset[100]"
      ],
      "execution_count": null,
      "outputs": [
        {
          "output_type": "stream",
          "text": [
            "4700\n"
          ],
          "name": "stdout"
        },
        {
          "output_type": "execute_result",
          "data": {
            "application/vnd.google.colaboratory.intrinsic+json": {
              "type": "string"
            },
            "text/plain": [
              "'the sum of 2 numbers is 33, three times one number is six less than four times the other, what are the two numbers? end \\\\'"
            ]
          },
          "metadata": {
            "tags": []
          },
          "execution_count": 7
        }
      ]
    },
    {
      "cell_type": "markdown",
      "metadata": {
        "id": "EH5ZH1kzbHBY"
      },
      "source": [
        "#Model"
      ]
    },
    {
      "cell_type": "code",
      "metadata": {
        "colab": {
          "base_uri": "https://localhost:8080/"
        },
        "id": "srZTvDDmbJDE",
        "outputId": "c1d8adf1-1243-4c55-fa66-f6f002a28232"
      },
      "source": [
        "pip install tokenizers"
      ],
      "execution_count": null,
      "outputs": [
        {
          "output_type": "stream",
          "text": [
            "Collecting tokenizers\n",
            "\u001b[?25l  Downloading https://files.pythonhosted.org/packages/d4/e2/df3543e8ffdab68f5acc73f613de9c2b155ac47f162e725dcac87c521c11/tokenizers-0.10.3-cp37-cp37m-manylinux_2_5_x86_64.manylinux1_x86_64.manylinux_2_12_x86_64.manylinux2010_x86_64.whl (3.3MB)\n",
            "\u001b[K     |████████████████████████████████| 3.3MB 7.0MB/s \n",
            "\u001b[?25hInstalling collected packages: tokenizers\n",
            "Successfully installed tokenizers-0.10.3\n"
          ],
          "name": "stdout"
        }
      ]
    },
    {
      "cell_type": "code",
      "metadata": {
        "colab": {
          "base_uri": "https://localhost:8080/"
        },
        "id": "1D42qRrJbNo0",
        "outputId": "fc002840-dcf9-4035-ec6d-f8a7eb641633"
      },
      "source": [
        "pip install transformers"
      ],
      "execution_count": null,
      "outputs": [
        {
          "output_type": "stream",
          "text": [
            "Collecting transformers\n",
            "\u001b[?25l  Downloading https://files.pythonhosted.org/packages/fd/1a/41c644c963249fd7f3836d926afa1e3f1cc234a1c40d80c5f03ad8f6f1b2/transformers-4.8.2-py3-none-any.whl (2.5MB)\n",
            "\r\u001b[K     |▏                               | 10kB 16.9MB/s eta 0:00:01\r\u001b[K     |▎                               | 20kB 23.1MB/s eta 0:00:01\r\u001b[K     |▍                               | 30kB 27.8MB/s eta 0:00:01\r\u001b[K     |▌                               | 40kB 25.4MB/s eta 0:00:01\r\u001b[K     |▋                               | 51kB 7.1MB/s eta 0:00:01\r\u001b[K     |▉                               | 61kB 7.5MB/s eta 0:00:01\r\u001b[K     |█                               | 71kB 8.0MB/s eta 0:00:01\r\u001b[K     |█                               | 81kB 7.6MB/s eta 0:00:01\r\u001b[K     |█▏                              | 92kB 8.0MB/s eta 0:00:01\r\u001b[K     |█▎                              | 102kB 8.4MB/s eta 0:00:01\r\u001b[K     |█▍                              | 112kB 8.4MB/s eta 0:00:01\r\u001b[K     |█▋                              | 122kB 8.4MB/s eta 0:00:01\r\u001b[K     |█▊                              | 133kB 8.4MB/s eta 0:00:01\r\u001b[K     |█▉                              | 143kB 8.4MB/s eta 0:00:01\r\u001b[K     |██                              | 153kB 8.4MB/s eta 0:00:01\r\u001b[K     |██                              | 163kB 8.4MB/s eta 0:00:01\r\u001b[K     |██▎                             | 174kB 8.4MB/s eta 0:00:01\r\u001b[K     |██▍                             | 184kB 8.4MB/s eta 0:00:01\r\u001b[K     |██▌                             | 194kB 8.4MB/s eta 0:00:01\r\u001b[K     |██▋                             | 204kB 8.4MB/s eta 0:00:01\r\u001b[K     |██▊                             | 215kB 8.4MB/s eta 0:00:01\r\u001b[K     |██▉                             | 225kB 8.4MB/s eta 0:00:01\r\u001b[K     |███                             | 235kB 8.4MB/s eta 0:00:01\r\u001b[K     |███▏                            | 245kB 8.4MB/s eta 0:00:01\r\u001b[K     |███▎                            | 256kB 8.4MB/s eta 0:00:01\r\u001b[K     |███▍                            | 266kB 8.4MB/s eta 0:00:01\r\u001b[K     |███▌                            | 276kB 8.4MB/s eta 0:00:01\r\u001b[K     |███▊                            | 286kB 8.4MB/s eta 0:00:01\r\u001b[K     |███▉                            | 296kB 8.4MB/s eta 0:00:01\r\u001b[K     |████                            | 307kB 8.4MB/s eta 0:00:01\r\u001b[K     |████                            | 317kB 8.4MB/s eta 0:00:01\r\u001b[K     |████▏                           | 327kB 8.4MB/s eta 0:00:01\r\u001b[K     |████▎                           | 337kB 8.4MB/s eta 0:00:01\r\u001b[K     |████▌                           | 348kB 8.4MB/s eta 0:00:01\r\u001b[K     |████▋                           | 358kB 8.4MB/s eta 0:00:01\r\u001b[K     |████▊                           | 368kB 8.4MB/s eta 0:00:01\r\u001b[K     |████▉                           | 378kB 8.4MB/s eta 0:00:01\r\u001b[K     |█████                           | 389kB 8.4MB/s eta 0:00:01\r\u001b[K     |█████▏                          | 399kB 8.4MB/s eta 0:00:01\r\u001b[K     |█████▎                          | 409kB 8.4MB/s eta 0:00:01\r\u001b[K     |█████▍                          | 419kB 8.4MB/s eta 0:00:01\r\u001b[K     |█████▌                          | 430kB 8.4MB/s eta 0:00:01\r\u001b[K     |█████▋                          | 440kB 8.4MB/s eta 0:00:01\r\u001b[K     |█████▊                          | 450kB 8.4MB/s eta 0:00:01\r\u001b[K     |██████                          | 460kB 8.4MB/s eta 0:00:01\r\u001b[K     |██████                          | 471kB 8.4MB/s eta 0:00:01\r\u001b[K     |██████▏                         | 481kB 8.4MB/s eta 0:00:01\r\u001b[K     |██████▎                         | 491kB 8.4MB/s eta 0:00:01\r\u001b[K     |██████▍                         | 501kB 8.4MB/s eta 0:00:01\r\u001b[K     |██████▌                         | 512kB 8.4MB/s eta 0:00:01\r\u001b[K     |██████▊                         | 522kB 8.4MB/s eta 0:00:01\r\u001b[K     |██████▉                         | 532kB 8.4MB/s eta 0:00:01\r\u001b[K     |███████                         | 542kB 8.4MB/s eta 0:00:01\r\u001b[K     |███████                         | 552kB 8.4MB/s eta 0:00:01\r\u001b[K     |███████▏                        | 563kB 8.4MB/s eta 0:00:01\r\u001b[K     |███████▍                        | 573kB 8.4MB/s eta 0:00:01\r\u001b[K     |███████▌                        | 583kB 8.4MB/s eta 0:00:01\r\u001b[K     |███████▋                        | 593kB 8.4MB/s eta 0:00:01\r\u001b[K     |███████▊                        | 604kB 8.4MB/s eta 0:00:01\r\u001b[K     |███████▉                        | 614kB 8.4MB/s eta 0:00:01\r\u001b[K     |████████                        | 624kB 8.4MB/s eta 0:00:01\r\u001b[K     |████████▏                       | 634kB 8.4MB/s eta 0:00:01\r\u001b[K     |████████▎                       | 645kB 8.4MB/s eta 0:00:01\r\u001b[K     |████████▍                       | 655kB 8.4MB/s eta 0:00:01\r\u001b[K     |████████▌                       | 665kB 8.4MB/s eta 0:00:01\r\u001b[K     |████████▋                       | 675kB 8.4MB/s eta 0:00:01\r\u001b[K     |████████▉                       | 686kB 8.4MB/s eta 0:00:01\r\u001b[K     |█████████                       | 696kB 8.4MB/s eta 0:00:01\r\u001b[K     |█████████                       | 706kB 8.4MB/s eta 0:00:01\r\u001b[K     |█████████▏                      | 716kB 8.4MB/s eta 0:00:01\r\u001b[K     |█████████▎                      | 727kB 8.4MB/s eta 0:00:01\r\u001b[K     |█████████▍                      | 737kB 8.4MB/s eta 0:00:01\r\u001b[K     |█████████▋                      | 747kB 8.4MB/s eta 0:00:01\r\u001b[K     |█████████▊                      | 757kB 8.4MB/s eta 0:00:01\r\u001b[K     |█████████▉                      | 768kB 8.4MB/s eta 0:00:01\r\u001b[K     |██████████                      | 778kB 8.4MB/s eta 0:00:01\r\u001b[K     |██████████                      | 788kB 8.4MB/s eta 0:00:01\r\u001b[K     |██████████▎                     | 798kB 8.4MB/s eta 0:00:01\r\u001b[K     |██████████▍                     | 808kB 8.4MB/s eta 0:00:01\r\u001b[K     |██████████▌                     | 819kB 8.4MB/s eta 0:00:01\r\u001b[K     |██████████▋                     | 829kB 8.4MB/s eta 0:00:01\r\u001b[K     |██████████▊                     | 839kB 8.4MB/s eta 0:00:01\r\u001b[K     |██████████▉                     | 849kB 8.4MB/s eta 0:00:01\r\u001b[K     |███████████                     | 860kB 8.4MB/s eta 0:00:01\r\u001b[K     |███████████▏                    | 870kB 8.4MB/s eta 0:00:01\r\u001b[K     |███████████▎                    | 880kB 8.4MB/s eta 0:00:01\r\u001b[K     |███████████▍                    | 890kB 8.4MB/s eta 0:00:01\r\u001b[K     |███████████▌                    | 901kB 8.4MB/s eta 0:00:01\r\u001b[K     |███████████▊                    | 911kB 8.4MB/s eta 0:00:01\r\u001b[K     |███████████▉                    | 921kB 8.4MB/s eta 0:00:01\r\u001b[K     |████████████                    | 931kB 8.4MB/s eta 0:00:01\r\u001b[K     |████████████                    | 942kB 8.4MB/s eta 0:00:01\r\u001b[K     |████████████▏                   | 952kB 8.4MB/s eta 0:00:01\r\u001b[K     |████████████▎                   | 962kB 8.4MB/s eta 0:00:01\r\u001b[K     |████████████▌                   | 972kB 8.4MB/s eta 0:00:01\r\u001b[K     |████████████▋                   | 983kB 8.4MB/s eta 0:00:01\r\u001b[K     |████████████▊                   | 993kB 8.4MB/s eta 0:00:01\r\u001b[K     |████████████▉                   | 1.0MB 8.4MB/s eta 0:00:01\r\u001b[K     |█████████████                   | 1.0MB 8.4MB/s eta 0:00:01\r\u001b[K     |█████████████                   | 1.0MB 8.4MB/s eta 0:00:01\r\u001b[K     |█████████████▎                  | 1.0MB 8.4MB/s eta 0:00:01\r\u001b[K     |█████████████▍                  | 1.0MB 8.4MB/s eta 0:00:01\r\u001b[K     |█████████████▌                  | 1.1MB 8.4MB/s eta 0:00:01\r\u001b[K     |█████████████▋                  | 1.1MB 8.4MB/s eta 0:00:01\r\u001b[K     |█████████████▊                  | 1.1MB 8.4MB/s eta 0:00:01\r\u001b[K     |██████████████                  | 1.1MB 8.4MB/s eta 0:00:01\r\u001b[K     |██████████████                  | 1.1MB 8.4MB/s eta 0:00:01\r\u001b[K     |██████████████▏                 | 1.1MB 8.4MB/s eta 0:00:01\r\u001b[K     |██████████████▎                 | 1.1MB 8.4MB/s eta 0:00:01\r\u001b[K     |██████████████▍                 | 1.1MB 8.4MB/s eta 0:00:01\r\u001b[K     |██████████████▌                 | 1.1MB 8.4MB/s eta 0:00:01\r\u001b[K     |██████████████▊                 | 1.1MB 8.4MB/s eta 0:00:01\r\u001b[K     |██████████████▉                 | 1.2MB 8.4MB/s eta 0:00:01\r\u001b[K     |███████████████                 | 1.2MB 8.4MB/s eta 0:00:01\r\u001b[K     |███████████████                 | 1.2MB 8.4MB/s eta 0:00:01\r\u001b[K     |███████████████▏                | 1.2MB 8.4MB/s eta 0:00:01\r\u001b[K     |███████████████▍                | 1.2MB 8.4MB/s eta 0:00:01\r\u001b[K     |███████████████▌                | 1.2MB 8.4MB/s eta 0:00:01\r\u001b[K     |███████████████▋                | 1.2MB 8.4MB/s eta 0:00:01\r\u001b[K     |███████████████▊                | 1.2MB 8.4MB/s eta 0:00:01\r\u001b[K     |███████████████▉                | 1.2MB 8.4MB/s eta 0:00:01\r\u001b[K     |████████████████                | 1.2MB 8.4MB/s eta 0:00:01\r\u001b[K     |████████████████▏               | 1.3MB 8.4MB/s eta 0:00:01\r\u001b[K     |████████████████▎               | 1.3MB 8.4MB/s eta 0:00:01\r\u001b[K     |████████████████▍               | 1.3MB 8.4MB/s eta 0:00:01\r\u001b[K     |████████████████▌               | 1.3MB 8.4MB/s eta 0:00:01\r\u001b[K     |████████████████▋               | 1.3MB 8.4MB/s eta 0:00:01\r\u001b[K     |████████████████▉               | 1.3MB 8.4MB/s eta 0:00:01\r\u001b[K     |█████████████████               | 1.3MB 8.4MB/s eta 0:00:01\r\u001b[K     |█████████████████               | 1.3MB 8.4MB/s eta 0:00:01\r\u001b[K     |█████████████████▏              | 1.3MB 8.4MB/s eta 0:00:01\r\u001b[K     |█████████████████▎              | 1.4MB 8.4MB/s eta 0:00:01\r\u001b[K     |█████████████████▍              | 1.4MB 8.4MB/s eta 0:00:01\r\u001b[K     |█████████████████▋              | 1.4MB 8.4MB/s eta 0:00:01\r\u001b[K     |█████████████████▊              | 1.4MB 8.4MB/s eta 0:00:01\r\u001b[K     |█████████████████▉              | 1.4MB 8.4MB/s eta 0:00:01\r\u001b[K     |██████████████████              | 1.4MB 8.4MB/s eta 0:00:01\r\u001b[K     |██████████████████              | 1.4MB 8.4MB/s eta 0:00:01\r\u001b[K     |██████████████████▎             | 1.4MB 8.4MB/s eta 0:00:01\r\u001b[K     |██████████████████▍             | 1.4MB 8.4MB/s eta 0:00:01\r\u001b[K     |██████████████████▌             | 1.4MB 8.4MB/s eta 0:00:01\r\u001b[K     |██████████████████▋             | 1.5MB 8.4MB/s eta 0:00:01\r\u001b[K     |██████████████████▊             | 1.5MB 8.4MB/s eta 0:00:01\r\u001b[K     |██████████████████▉             | 1.5MB 8.4MB/s eta 0:00:01\r\u001b[K     |███████████████████             | 1.5MB 8.4MB/s eta 0:00:01\r\u001b[K     |███████████████████▏            | 1.5MB 8.4MB/s eta 0:00:01\r\u001b[K     |███████████████████▎            | 1.5MB 8.4MB/s eta 0:00:01\r\u001b[K     |███████████████████▍            | 1.5MB 8.4MB/s eta 0:00:01\r\u001b[K     |███████████████████▌            | 1.5MB 8.4MB/s eta 0:00:01\r\u001b[K     |███████████████████▋            | 1.5MB 8.4MB/s eta 0:00:01\r\u001b[K     |███████████████████▉            | 1.5MB 8.4MB/s eta 0:00:01\r\u001b[K     |████████████████████            | 1.6MB 8.4MB/s eta 0:00:01\r\u001b[K     |████████████████████            | 1.6MB 8.4MB/s eta 0:00:01\r\u001b[K     |████████████████████▏           | 1.6MB 8.4MB/s eta 0:00:01\r\u001b[K     |████████████████████▎           | 1.6MB 8.4MB/s eta 0:00:01\r\u001b[K     |████████████████████▌           | 1.6MB 8.4MB/s eta 0:00:01\r\u001b[K     |████████████████████▋           | 1.6MB 8.4MB/s eta 0:00:01\r\u001b[K     |████████████████████▊           | 1.6MB 8.4MB/s eta 0:00:01\r\u001b[K     |████████████████████▉           | 1.6MB 8.4MB/s eta 0:00:01\r\u001b[K     |█████████████████████           | 1.6MB 8.4MB/s eta 0:00:01\r\u001b[K     |█████████████████████           | 1.6MB 8.4MB/s eta 0:00:01\r\u001b[K     |█████████████████████▎          | 1.7MB 8.4MB/s eta 0:00:01\r\u001b[K     |█████████████████████▍          | 1.7MB 8.4MB/s eta 0:00:01\r\u001b[K     |█████████████████████▌          | 1.7MB 8.4MB/s eta 0:00:01\r\u001b[K     |█████████████████████▋          | 1.7MB 8.4MB/s eta 0:00:01\r\u001b[K     |█████████████████████▊          | 1.7MB 8.4MB/s eta 0:00:01\r\u001b[K     |██████████████████████          | 1.7MB 8.4MB/s eta 0:00:01\r\u001b[K     |██████████████████████          | 1.7MB 8.4MB/s eta 0:00:01\r\u001b[K     |██████████████████████▏         | 1.7MB 8.4MB/s eta 0:00:01\r\u001b[K     |██████████████████████▎         | 1.7MB 8.4MB/s eta 0:00:01\r\u001b[K     |██████████████████████▍         | 1.8MB 8.4MB/s eta 0:00:01\r\u001b[K     |██████████████████████▌         | 1.8MB 8.4MB/s eta 0:00:01\r\u001b[K     |██████████████████████▊         | 1.8MB 8.4MB/s eta 0:00:01\r\u001b[K     |██████████████████████▉         | 1.8MB 8.4MB/s eta 0:00:01\r\u001b[K     |███████████████████████         | 1.8MB 8.4MB/s eta 0:00:01\r\u001b[K     |███████████████████████         | 1.8MB 8.4MB/s eta 0:00:01\r\u001b[K     |███████████████████████▏        | 1.8MB 8.4MB/s eta 0:00:01\r\u001b[K     |███████████████████████▍        | 1.8MB 8.4MB/s eta 0:00:01\r\u001b[K     |███████████████████████▌        | 1.8MB 8.4MB/s eta 0:00:01\r\u001b[K     |███████████████████████▋        | 1.8MB 8.4MB/s eta 0:00:01\r\u001b[K     |███████████████████████▊        | 1.9MB 8.4MB/s eta 0:00:01\r\u001b[K     |███████████████████████▉        | 1.9MB 8.4MB/s eta 0:00:01\r\u001b[K     |████████████████████████        | 1.9MB 8.4MB/s eta 0:00:01\r\u001b[K     |████████████████████████▏       | 1.9MB 8.4MB/s eta 0:00:01\r\u001b[K     |████████████████████████▎       | 1.9MB 8.4MB/s eta 0:00:01\r\u001b[K     |████████████████████████▍       | 1.9MB 8.4MB/s eta 0:00:01\r\u001b[K     |████████████████████████▌       | 1.9MB 8.4MB/s eta 0:00:01\r\u001b[K     |████████████████████████▋       | 1.9MB 8.4MB/s eta 0:00:01\r\u001b[K     |████████████████████████▉       | 1.9MB 8.4MB/s eta 0:00:01\r\u001b[K     |█████████████████████████       | 1.9MB 8.4MB/s eta 0:00:01\r\u001b[K     |█████████████████████████       | 2.0MB 8.4MB/s eta 0:00:01\r\u001b[K     |█████████████████████████▏      | 2.0MB 8.4MB/s eta 0:00:01\r\u001b[K     |█████████████████████████▎      | 2.0MB 8.4MB/s eta 0:00:01\r\u001b[K     |█████████████████████████▍      | 2.0MB 8.4MB/s eta 0:00:01\r\u001b[K     |█████████████████████████▋      | 2.0MB 8.4MB/s eta 0:00:01\r\u001b[K     |█████████████████████████▊      | 2.0MB 8.4MB/s eta 0:00:01\r\u001b[K     |█████████████████████████▉      | 2.0MB 8.4MB/s eta 0:00:01\r\u001b[K     |██████████████████████████      | 2.0MB 8.4MB/s eta 0:00:01\r\u001b[K     |██████████████████████████      | 2.0MB 8.4MB/s eta 0:00:01\r\u001b[K     |██████████████████████████▏     | 2.0MB 8.4MB/s eta 0:00:01\r\u001b[K     |██████████████████████████▍     | 2.1MB 8.4MB/s eta 0:00:01\r\u001b[K     |██████████████████████████▌     | 2.1MB 8.4MB/s eta 0:00:01\r\u001b[K     |██████████████████████████▋     | 2.1MB 8.4MB/s eta 0:00:01\r\u001b[K     |██████████████████████████▊     | 2.1MB 8.4MB/s eta 0:00:01\r\u001b[K     |██████████████████████████▉     | 2.1MB 8.4MB/s eta 0:00:01\r\u001b[K     |███████████████████████████     | 2.1MB 8.4MB/s eta 0:00:01\r\u001b[K     |███████████████████████████▏    | 2.1MB 8.4MB/s eta 0:00:01\r\u001b[K     |███████████████████████████▎    | 2.1MB 8.4MB/s eta 0:00:01\r\u001b[K     |███████████████████████████▍    | 2.1MB 8.4MB/s eta 0:00:01\r\u001b[K     |███████████████████████████▌    | 2.2MB 8.4MB/s eta 0:00:01\r\u001b[K     |███████████████████████████▋    | 2.2MB 8.4MB/s eta 0:00:01\r\u001b[K     |███████████████████████████▉    | 2.2MB 8.4MB/s eta 0:00:01\r\u001b[K     |████████████████████████████    | 2.2MB 8.4MB/s eta 0:00:01\r\u001b[K     |████████████████████████████    | 2.2MB 8.4MB/s eta 0:00:01\r\u001b[K     |████████████████████████████▏   | 2.2MB 8.4MB/s eta 0:00:01\r\u001b[K     |████████████████████████████▎   | 2.2MB 8.4MB/s eta 0:00:01\r\u001b[K     |████████████████████████████▌   | 2.2MB 8.4MB/s eta 0:00:01\r\u001b[K     |████████████████████████████▋   | 2.2MB 8.4MB/s eta 0:00:01\r\u001b[K     |████████████████████████████▊   | 2.2MB 8.4MB/s eta 0:00:01\r\u001b[K     |████████████████████████████▉   | 2.3MB 8.4MB/s eta 0:00:01\r\u001b[K     |█████████████████████████████   | 2.3MB 8.4MB/s eta 0:00:01\r\u001b[K     |█████████████████████████████   | 2.3MB 8.4MB/s eta 0:00:01\r\u001b[K     |█████████████████████████████▎  | 2.3MB 8.4MB/s eta 0:00:01\r\u001b[K     |█████████████████████████████▍  | 2.3MB 8.4MB/s eta 0:00:01\r\u001b[K     |█████████████████████████████▌  | 2.3MB 8.4MB/s eta 0:00:01\r\u001b[K     |█████████████████████████████▋  | 2.3MB 8.4MB/s eta 0:00:01\r\u001b[K     |█████████████████████████████▊  | 2.3MB 8.4MB/s eta 0:00:01\r\u001b[K     |██████████████████████████████  | 2.3MB 8.4MB/s eta 0:00:01\r\u001b[K     |██████████████████████████████  | 2.3MB 8.4MB/s eta 0:00:01\r\u001b[K     |██████████████████████████████▏ | 2.4MB 8.4MB/s eta 0:00:01\r\u001b[K     |██████████████████████████████▎ | 2.4MB 8.4MB/s eta 0:00:01\r\u001b[K     |██████████████████████████████▍ | 2.4MB 8.4MB/s eta 0:00:01\r\u001b[K     |██████████████████████████████▌ | 2.4MB 8.4MB/s eta 0:00:01\r\u001b[K     |██████████████████████████████▊ | 2.4MB 8.4MB/s eta 0:00:01\r\u001b[K     |██████████████████████████████▉ | 2.4MB 8.4MB/s eta 0:00:01\r\u001b[K     |███████████████████████████████ | 2.4MB 8.4MB/s eta 0:00:01\r\u001b[K     |███████████████████████████████ | 2.4MB 8.4MB/s eta 0:00:01\r\u001b[K     |███████████████████████████████▏| 2.4MB 8.4MB/s eta 0:00:01\r\u001b[K     |███████████████████████████████▍| 2.4MB 8.4MB/s eta 0:00:01\r\u001b[K     |███████████████████████████████▌| 2.5MB 8.4MB/s eta 0:00:01\r\u001b[K     |███████████████████████████████▋| 2.5MB 8.4MB/s eta 0:00:01\r\u001b[K     |███████████████████████████████▊| 2.5MB 8.4MB/s eta 0:00:01\r\u001b[K     |███████████████████████████████▉| 2.5MB 8.4MB/s eta 0:00:01\r\u001b[K     |████████████████████████████████| 2.5MB 8.4MB/s eta 0:00:01\r\u001b[K     |████████████████████████████████| 2.5MB 8.4MB/s \n",
            "\u001b[?25hRequirement already satisfied: pyyaml in /usr/local/lib/python3.7/dist-packages (from transformers) (3.13)\n",
            "Requirement already satisfied: regex!=2019.12.17 in /usr/local/lib/python3.7/dist-packages (from transformers) (2019.12.20)\n",
            "Collecting huggingface-hub==0.0.12\n",
            "  Downloading https://files.pythonhosted.org/packages/2f/ee/97e253668fda9b17e968b3f97b2f8e53aa0127e8807d24a547687423fe0b/huggingface_hub-0.0.12-py3-none-any.whl\n",
            "Requirement already satisfied: requests in /usr/local/lib/python3.7/dist-packages (from transformers) (2.23.0)\n",
            "Requirement already satisfied: numpy>=1.17 in /usr/local/lib/python3.7/dist-packages (from transformers) (1.19.5)\n",
            "Collecting sacremoses\n",
            "\u001b[?25l  Downloading https://files.pythonhosted.org/packages/75/ee/67241dc87f266093c533a2d4d3d69438e57d7a90abb216fa076e7d475d4a/sacremoses-0.0.45-py3-none-any.whl (895kB)\n",
            "\u001b[K     |████████████████████████████████| 901kB 49.6MB/s \n",
            "\u001b[?25hRequirement already satisfied: packaging in /usr/local/lib/python3.7/dist-packages (from transformers) (20.9)\n",
            "Requirement already satisfied: filelock in /usr/local/lib/python3.7/dist-packages (from transformers) (3.0.12)\n",
            "Requirement already satisfied: tokenizers<0.11,>=0.10.1 in /usr/local/lib/python3.7/dist-packages (from transformers) (0.10.3)\n",
            "Requirement already satisfied: importlib-metadata; python_version < \"3.8\" in /usr/local/lib/python3.7/dist-packages (from transformers) (4.5.0)\n",
            "Requirement already satisfied: tqdm>=4.27 in /usr/local/lib/python3.7/dist-packages (from transformers) (4.41.1)\n",
            "Requirement already satisfied: typing-extensions in /usr/local/lib/python3.7/dist-packages (from huggingface-hub==0.0.12->transformers) (3.7.4.3)\n",
            "Requirement already satisfied: urllib3!=1.25.0,!=1.25.1,<1.26,>=1.21.1 in /usr/local/lib/python3.7/dist-packages (from requests->transformers) (1.24.3)\n",
            "Requirement already satisfied: idna<3,>=2.5 in /usr/local/lib/python3.7/dist-packages (from requests->transformers) (2.10)\n",
            "Requirement already satisfied: certifi>=2017.4.17 in /usr/local/lib/python3.7/dist-packages (from requests->transformers) (2021.5.30)\n",
            "Requirement already satisfied: chardet<4,>=3.0.2 in /usr/local/lib/python3.7/dist-packages (from requests->transformers) (3.0.4)\n",
            "Requirement already satisfied: six in /usr/local/lib/python3.7/dist-packages (from sacremoses->transformers) (1.15.0)\n",
            "Requirement already satisfied: joblib in /usr/local/lib/python3.7/dist-packages (from sacremoses->transformers) (1.0.1)\n",
            "Requirement already satisfied: click in /usr/local/lib/python3.7/dist-packages (from sacremoses->transformers) (7.1.2)\n",
            "Requirement already satisfied: pyparsing>=2.0.2 in /usr/local/lib/python3.7/dist-packages (from packaging->transformers) (2.4.7)\n",
            "Requirement already satisfied: zipp>=0.5 in /usr/local/lib/python3.7/dist-packages (from importlib-metadata; python_version < \"3.8\"->transformers) (3.4.1)\n",
            "Installing collected packages: huggingface-hub, sacremoses, transformers\n",
            "Successfully installed huggingface-hub-0.0.12 sacremoses-0.0.45 transformers-4.8.2\n"
          ],
          "name": "stdout"
        }
      ]
    },
    {
      "cell_type": "code",
      "metadata": {
        "colab": {
          "base_uri": "https://localhost:8080/",
          "height": 164,
          "referenced_widgets": [
            "b297b9a6e2304d0baecfdeb41a45bab9",
            "047c151348af47868292a6d93bbf7c28",
            "6501da506cf44ffd82822deffbd57b74",
            "514fb62dfa3d47409a0446baec0ab0f4",
            "06c82af0778c4302b9bb08234c900b5b",
            "ef1ac5e855b746828a5c027b135b9a36",
            "95eb91e706f642bd830e7a04a020353b",
            "40e516b7d19649acb28b75fb2987a393",
            "12c10b0efd4d4819bb0dcd8c14c4d1d4",
            "4bd52d6d387e41cfa0308556588649c7",
            "f55036e749964466958b302d4e2197ca",
            "66544852faee4e668c79ec3cbcd1b1dd",
            "0c73648201594806b2f35e4099c5acc8",
            "d45fb30f55bd43b2afe90ecfed22f0b3",
            "fe96ef27e0c8493c906178369930df86",
            "865b98a1333f4d439a5fda5a5887acd3",
            "9e86ff31b4a6437ca395dc99bdf09043",
            "4f924d6e9c0a45d4abe707b1b4cac8f7",
            "c47cf577f16e4b0d9c9e624aa6c159dd",
            "c50a905fa072458ea19187dc3011c853",
            "3b21e1f8c1eb478b83e981e26e61379b",
            "797e5d80cf2e45cb9e16f06ed45ebed6",
            "899fa72711b34adb8608b49dd27ff23b",
            "da3ca8c5f00c42d2a5665ab05f17e749"
          ]
        },
        "id": "l7AUv4B6bP74",
        "outputId": "66fc5c47-72e6-4950-b6a8-379b2023ab50"
      },
      "source": [
        "import tensorflow as tf\n",
        "from transformers import GPT2Config, TFGPT2LMHeadModel, GPT2Tokenizer\n",
        "\n",
        "tokenizer = GPT2Tokenizer.from_pretrained(\"gpt2\")\n",
        "tokenizer.add_special_tokens({\n",
        "  \"eos_token\": \"</s>\",\n",
        "  \"bos_token\": \"<s>\",\n",
        "  \"unk_token\": \"<unk>\",\n",
        "  \"pad_token\": \"<pad>\",\n",
        "  \"mask_token\": \"<mask>\"\n",
        "})\n",
        "# creating the configurations from which the model can be made\n",
        "config = GPT2Config(\n",
        "  vocab_size=tokenizer.vocab_size,\n",
        "  bos_token_id=tokenizer.bos_token_id,\n",
        "  eos_token_id=tokenizer.eos_token_id\n",
        ")\n",
        "# creating the model\n",
        "model = TFGPT2LMHeadModel(config)"
      ],
      "execution_count": null,
      "outputs": [
        {
          "output_type": "display_data",
          "data": {
            "application/vnd.jupyter.widget-view+json": {
              "model_id": "b297b9a6e2304d0baecfdeb41a45bab9",
              "version_minor": 0,
              "version_major": 2
            },
            "text/plain": [
              "HBox(children=(FloatProgress(value=0.0, description='Downloading', max=1042301.0, style=ProgressStyle(descript…"
            ]
          },
          "metadata": {
            "tags": []
          }
        },
        {
          "output_type": "stream",
          "text": [
            "\n"
          ],
          "name": "stdout"
        },
        {
          "output_type": "display_data",
          "data": {
            "application/vnd.jupyter.widget-view+json": {
              "model_id": "12c10b0efd4d4819bb0dcd8c14c4d1d4",
              "version_minor": 0,
              "version_major": 2
            },
            "text/plain": [
              "HBox(children=(FloatProgress(value=0.0, description='Downloading', max=456318.0, style=ProgressStyle(descripti…"
            ]
          },
          "metadata": {
            "tags": []
          }
        },
        {
          "output_type": "stream",
          "text": [
            "\n"
          ],
          "name": "stdout"
        },
        {
          "output_type": "display_data",
          "data": {
            "application/vnd.jupyter.widget-view+json": {
              "model_id": "9e86ff31b4a6437ca395dc99bdf09043",
              "version_minor": 0,
              "version_major": 2
            },
            "text/plain": [
              "HBox(children=(FloatProgress(value=0.0, description='Downloading', max=1355256.0, style=ProgressStyle(descript…"
            ]
          },
          "metadata": {
            "tags": []
          }
        },
        {
          "output_type": "stream",
          "text": [
            "\n"
          ],
          "name": "stdout"
        }
      ]
    }
  ]
}